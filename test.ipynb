{
 "cells": [
  {
   "cell_type": "code",
   "execution_count": 1,
   "metadata": {},
   "outputs": [
    {
     "data": {
      "text/plain": [
       "==========================================================================================\n",
       "Layer (type:depth-idx)                   Output Shape              Param #\n",
       "==========================================================================================\n",
       "edsr                                     [16, 3, 96, 96]           --\n",
       "├─Conv2d: 1-1                            [16, 64, 24, 24]          1,792\n",
       "├─ModuleList: 1-2                        --                        --\n",
       "│    └─res_block: 2-1                    [16, 64, 24, 24]          --\n",
       "│    │    └─Sequential: 3-1              [16, 64, 24, 24]          73,856\n",
       "│    └─res_block: 2-2                    [16, 64, 24, 24]          --\n",
       "│    │    └─Sequential: 3-2              [16, 64, 24, 24]          73,856\n",
       "│    └─res_block: 2-3                    [16, 64, 24, 24]          --\n",
       "│    │    └─Sequential: 3-3              [16, 64, 24, 24]          73,856\n",
       "│    └─res_block: 2-4                    [16, 64, 24, 24]          --\n",
       "│    │    └─Sequential: 3-4              [16, 64, 24, 24]          73,856\n",
       "│    └─res_block: 2-5                    [16, 64, 24, 24]          --\n",
       "│    │    └─Sequential: 3-5              [16, 64, 24, 24]          73,856\n",
       "│    └─res_block: 2-6                    [16, 64, 24, 24]          --\n",
       "│    │    └─Sequential: 3-6              [16, 64, 24, 24]          73,856\n",
       "│    └─res_block: 2-7                    [16, 64, 24, 24]          --\n",
       "│    │    └─Sequential: 3-7              [16, 64, 24, 24]          73,856\n",
       "│    └─res_block: 2-8                    [16, 64, 24, 24]          --\n",
       "│    │    └─Sequential: 3-8              [16, 64, 24, 24]          73,856\n",
       "├─Conv2d: 1-3                            [16, 64, 24, 24]          36,928\n",
       "├─ModuleList: 1-4                        --                        --\n",
       "│    └─upsample: 2-9                     [16, 64, 48, 48]          --\n",
       "│    │    └─Conv2d: 3-9                  [16, 256, 24, 24]         147,712\n",
       "│    │    └─PixelShuffle: 3-10           [16, 64, 48, 48]          --\n",
       "│    └─upsample: 2-10                    [16, 64, 96, 96]          --\n",
       "│    │    └─Conv2d: 3-11                 [16, 256, 48, 48]         147,712\n",
       "│    │    └─PixelShuffle: 3-12           [16, 64, 96, 96]          --\n",
       "├─Conv2d: 1-5                            [16, 3, 96, 96]           1,731\n",
       "==========================================================================================\n",
       "Total params: 926,723\n",
       "Trainable params: 926,723\n",
       "Non-trainable params: 0\n",
       "Total mult-adds (G): 12.86\n",
       "==========================================================================================\n",
       "Input size (MB): 0.11\n",
       "Forward/backward pass size (MB): 182.85\n",
       "Params size (MB): 3.71\n",
       "Estimated Total Size (MB): 186.66\n",
       "=========================================================================================="
      ]
     },
     "execution_count": 1,
     "metadata": {},
     "output_type": "execute_result"
    }
   ],
   "source": [
    "from models.edsr import edsr\n",
    "from torchinfo import summary\n",
    "\n",
    "model = edsr(shape=3)\n",
    "\n",
    "summary(model=model, input_size=[16, 3, 24, 24])"
   ]
  }
 ],
 "metadata": {
  "kernelspec": {
   "display_name": "kaggle",
   "language": "python",
   "name": "python3"
  },
  "language_info": {
   "codemirror_mode": {
    "name": "ipython",
    "version": 3
   },
   "file_extension": ".py",
   "mimetype": "text/x-python",
   "name": "python",
   "nbconvert_exporter": "python",
   "pygments_lexer": "ipython3",
   "version": "3.10.11"
  },
  "orig_nbformat": 4
 },
 "nbformat": 4,
 "nbformat_minor": 2
}
